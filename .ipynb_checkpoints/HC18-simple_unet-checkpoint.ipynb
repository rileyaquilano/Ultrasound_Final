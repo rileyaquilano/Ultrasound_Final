{
 "cells": [
  {
   "cell_type": "markdown",
   "metadata": {
    "colab_type": "text",
    "id": "view-in-github"
   },
   "source": [
    "<a href=\"https://colab.research.google.com/github/Pankaj1357/HC18-Grand-Challenge/blob/master/HC18.ipynb\" target=\"_parent\"><img src=\"https://colab.research.google.com/assets/colab-badge.svg\" alt=\"Open In Colab\"/></a>"
   ]
  },
  {
   "cell_type": "code",
   "execution_count": null,
   "metadata": {},
   "outputs": [],
   "source": []
  },
  {
   "cell_type": "code",
   "execution_count": 37,
   "metadata": {
    "colab": {},
    "colab_type": "code",
    "id": "TV46Qhyl7VG7"
   },
   "outputs": [],
   "source": [
    "import cv2\n",
    "import os\n",
    "import matplotlib.pyplot as plt\n",
    "import pandas as pd"
   ]
  },
  {
   "cell_type": "markdown",
   "metadata": {
    "colab_type": "text",
    "id": "Dy5DKne7MK-b"
   },
   "source": [
    "# **Mask Generation**\n",
    "Done only once and replaced that  annotation with masks permanently\n",
    "Did not changed the annotation file name though"
   ]
  },
  {
   "cell_type": "markdown",
   "metadata": {
    "colab_type": "text",
    "id": "fVabpqscIjJP"
   },
   "source": [
    "## **Warning!!!**\n",
    "Do not run below cells as task is already completed"
   ]
  },
  {
   "cell_type": "code",
   "execution_count": 38,
   "metadata": {
    "colab": {
     "base_uri": "https://localhost:8080/",
     "height": 206
    },
    "colab_type": "code",
    "id": "l2QgdZiQMDSR",
    "outputId": "e0244c3e-12af-4095-ad18-86c1185199da"
   },
   "outputs": [
    {
     "data": {
      "text/html": [
       "<div>\n",
       "<style scoped>\n",
       "    .dataframe tbody tr th:only-of-type {\n",
       "        vertical-align: middle;\n",
       "    }\n",
       "\n",
       "    .dataframe tbody tr th {\n",
       "        vertical-align: top;\n",
       "    }\n",
       "\n",
       "    .dataframe thead th {\n",
       "        text-align: right;\n",
       "    }\n",
       "</style>\n",
       "<table border=\"1\" class=\"dataframe\">\n",
       "  <thead>\n",
       "    <tr style=\"text-align: right;\">\n",
       "      <th></th>\n",
       "      <th>filename</th>\n",
       "      <th>pixel size(mm)</th>\n",
       "      <th>head circumference (mm)</th>\n",
       "    </tr>\n",
       "  </thead>\n",
       "  <tbody>\n",
       "    <tr>\n",
       "      <th>0</th>\n",
       "      <td>000_HC.png</td>\n",
       "      <td>0.069136</td>\n",
       "      <td>44.30</td>\n",
       "    </tr>\n",
       "    <tr>\n",
       "      <th>1</th>\n",
       "      <td>001_HC.png</td>\n",
       "      <td>0.089659</td>\n",
       "      <td>56.81</td>\n",
       "    </tr>\n",
       "    <tr>\n",
       "      <th>2</th>\n",
       "      <td>002_HC.png</td>\n",
       "      <td>0.062033</td>\n",
       "      <td>68.75</td>\n",
       "    </tr>\n",
       "    <tr>\n",
       "      <th>3</th>\n",
       "      <td>003_HC.png</td>\n",
       "      <td>0.091291</td>\n",
       "      <td>69.00</td>\n",
       "    </tr>\n",
       "    <tr>\n",
       "      <th>4</th>\n",
       "      <td>004_HC.png</td>\n",
       "      <td>0.061240</td>\n",
       "      <td>59.81</td>\n",
       "    </tr>\n",
       "  </tbody>\n",
       "</table>\n",
       "</div>"
      ],
      "text/plain": [
       "     filename  pixel size(mm)  head circumference (mm)\n",
       "0  000_HC.png        0.069136                    44.30\n",
       "1  001_HC.png        0.089659                    56.81\n",
       "2  002_HC.png        0.062033                    68.75\n",
       "3  003_HC.png        0.091291                    69.00\n",
       "4  004_HC.png        0.061240                    59.81"
      ]
     },
     "execution_count": 38,
     "metadata": {},
     "output_type": "execute_result"
    }
   ],
   "source": [
    "train_pixel_file = pd.read_csv('training_set_pixel_size_and_HC.csv')\n",
    "train_pixel_file.head()\n",
    "# This Dataframe will be used to extract image names hence by doing image_name + '_Annotation' we will get annotation names"
   ]
  },
  {
   "cell_type": "code",
   "execution_count": 39,
   "metadata": {
    "colab": {},
    "colab_type": "code",
    "id": "pwc0njSy7wLO"
   },
   "outputs": [],
   "source": [
    "# This function takes annotation and spits out corresponding mask\n",
    "def masking(image):\n",
    "    imgray = cv2.cvtColor(image, cv2.COLOR_BGR2GRAY)\n",
    "    ret, thresh = cv2.threshold(imgray, 127, 255, 0)\n",
    "    contours,useless = cv2.findContours(thresh, cv2.RETR_TREE, cv2.CHAIN_APPROX_SIMPLE)\n",
    "    ellipse = cv2.fitEllipse(contours[0])\n",
    "    return cv2.ellipse(image, ellipse, (255,255,255), -1)"
   ]
  },
  {
   "cell_type": "code",
   "execution_count": null,
   "metadata": {},
   "outputs": [],
   "source": []
  },
  {
   "cell_type": "code",
   "execution_count": 40,
   "metadata": {
    "colab": {
     "base_uri": "https://localhost:8080/",
     "height": 417
    },
    "colab_type": "code",
    "id": "MaWoHo2uXKrr",
    "outputId": "fb2ca4ec-f69c-4dc2-9dac-640ac24a0256"
   },
   "outputs": [
    {
     "name": "stdout",
     "output_type": "stream",
     "text": [
      "training_set/000_HC_Annotation.png\n",
      "training_set/001_HC_Annotation.png\n",
      "training_set/002_HC_Annotation.png\n",
      "training_set/003_HC_Annotation.png\n",
      "training_set/004_HC_Annotation.png\n",
      "training_set/005_HC_Annotation.png\n",
      "training_set/006_HC_Annotation.png\n"
     ]
    },
    {
     "data": {
      "image/png": "[encoded data removed]",
      "text/plain": [
       "<Figure size 2160x504 with 14 Axes>"
      ]
     },
     "metadata": {
      "needs_background": "light"
     },
     "output_type": "display_data"
    }
   ],
   "source": [
    "# to check if our masking function is working correctly\n",
    "fig = plt.figure(figsize = (30,7))\n",
    "for index in range(7):\n",
    "  file_path = os.path.join('training_set', train_pixel_file.iloc[index, 0].replace('.png','_Annotation.png'))\n",
    "  print(file_path)\n",
    "  ax = fig.add_subplot(2, 7, index+1)             ## annoted plot\n",
    "  plt.imshow(cv2.imread(file_path))\n",
    "    \n",
    "  ax = fig.add_subplot(2, 7, index+8)\n",
    "  plt.imshow(masking(cv2.imread(file_path)))        ## mask plot"
   ]
  },
  {
   "cell_type": "code",
   "execution_count": 41,
   "metadata": {
    "colab": {},
    "colab_type": "code",
    "id": "KDfCwlA2-gEm"
   },
   "outputs": [
    {
     "data": {
      "text/plain": [
       "<Figure size 2160x504 with 0 Axes>"
      ]
     },
     "metadata": {},
     "output_type": "display_data"
    }
   ],
   "source": [
    "# Here we loop through training set and  take annotations one by one and replace them with corresponding masks\n",
    "fig = plt.figure(figsize = (30,7))\n",
    "for index in range(len(train_pixel_file)):\n",
    "    file_path = os.path.join('training_set', train_pixel_file.iloc[index, 0].replace('.png','_Annotation.png'))\n",
    "    image = cv2.imread(file_path)\n",
    "    mask = masking(image)\n",
    "    cv2.imwrite(file_path, mask)"
   ]
  },
  {
   "cell_type": "markdown",
   "metadata": {
    "colab_type": "text",
    "id": "KADFsdwapVbI"
   },
   "source": [
    "## **Warning!!!**\n",
    "**Done with mask generation. Don't run above cells ever again**"
   ]
  },
  {
   "cell_type": "markdown",
   "metadata": {
    "colab_type": "text",
    "id": "JGi8nx7FR5tC"
   },
   "source": [
    "### **Do all the imports in below cell**"
   ]
  },
  {
   "cell_type": "code",
   "execution_count": 42,
   "metadata": {
    "colab": {},
    "colab_type": "code",
    "id": "R16j18u8R5Os"
   },
   "outputs": [],
   "source": [
    "import numpy as np\n",
    "import pandas as pd\n",
    "import matplotlib.pyplot as plt\n",
    "\n",
    "from sklearn.model_selection import train_test_split\n",
    "\n",
    "from skimage import io, color\n",
    "from PIL import Image\n",
    "import cv2\n",
    "\n",
    "import os\n",
    "import random\n",
    "\n",
    "import torch\n",
    "from torch.utils.data  import Dataset, DataLoader\n",
    "from torchvision import transforms\n",
    "import torchvision.transforms.functional as TF\n",
    "import torch.nn as nn\n",
    "import torch.nn.functional as F\n",
    "import torchvision"
   ]
  },
  {
   "cell_type": "code",
   "execution_count": 43,
   "metadata": {
    "colab": {},
    "colab_type": "code",
    "id": "qkDkIwzy6aso"
   },
   "outputs": [],
   "source": [
    "validation_set_size = 0.20            # fraction of dataset used for validation which will be splited randomly"
   ]
  },
  {
   "cell_type": "code",
   "execution_count": 44,
   "metadata": {
    "colab": {},
    "colab_type": "code",
    "id": "4YRb9PbVX8fK"
   },
   "outputs": [],
   "source": [
    "# our dataset class\n",
    "class HC18(Dataset):\n",
    "  #\"\"\" train and validation dataset class\"\"\"\n",
    "    def __init__(self, root_dir, train = True, transformX = None, transformY = None):\n",
    "        self.pixel_file = pd.read_csv(os.path.join(root_dir, 'training_set_pixel_size_and_HC.csv'))\n",
    "        self.root_dir = root_dir\n",
    "        self.transformX = transformX\n",
    "        self.transformY = transformY\n",
    "        self.train = train\n",
    "        \n",
    "        # lets split the dataset in train and validation\n",
    "        self.train_data, self.validation_data = train_test_split(self.pixel_file, test_size = validation_set_size, random_state = 5)\n",
    "        \n",
    "    def __len__(self):\n",
    "        \n",
    "        if self.train:\n",
    "          length = len(self.train_data)\n",
    "        else:\n",
    "          length = len(self.validation_data)\n",
    "        return length\n",
    "    \n",
    "    def __getitem__(self, index):\n",
    "      \n",
    "        if self.train:\n",
    "          imx_name = os.path.join(self.root_dir, 'training_set', self.train_data.iloc[index, 0])\n",
    "          imy_name = os.path.join(self.root_dir, 'training_set',self.train_data.iloc[index, 0].replace('.png','_Annotation.png'))\n",
    "\n",
    "        else:\n",
    "          imx_name = os.path.join(self.root_dir, 'training_set', self.validation_data.iloc[index, 0])\n",
    "          imy_name = os.path.join(self.root_dir, 'training_set',self.validation_data.iloc[index, 0].replace('.png','_Annotation.png'))\n",
    "        \n",
    "        \n",
    "        imx = Image.open(imx_name)\n",
    "        imy = Image.open(imy_name).convert('L')\n",
    "        \n",
    "        ## tried some data augmentation techniques\n",
    "        if self.train:\n",
    "          # Random horizontal flipping\n",
    "          if random.random() > 0.5:\n",
    "              imx = TF.hflip(imx)\n",
    "              imy = TF.hflip(imy)\n",
    "\n",
    "          # Random vertical flipping\n",
    "          if random.random() > 0.5:\n",
    "              imx = TF.vflip(imx)\n",
    "              imy = TF.vflip(imy)\n",
    "\n",
    "\n",
    "          # Random rotation\n",
    "          if random.random() > 0.8:\n",
    "            angle = random.choice([-30, -90, -60, -45 -15, 0, 15, 30, 45, 60, 90])\n",
    "            imx = TF.rotate(imx, angle)\n",
    "            imy = TF.rotate(imy, angle)\n",
    "        \n",
    "        \n",
    "        \n",
    "        \n",
    "        \n",
    "        \n",
    "        if self.transformX :\n",
    "            imx = self.transformX(imx)\n",
    "            imy = self.transformY(imy)\n",
    "        \n",
    "        sample = {'image': imx, 'annotation': imy}\n",
    "        return sample"
   ]
  },
  {
   "cell_type": "code",
   "execution_count": 45,
   "metadata": {
    "colab": {},
    "colab_type": "code",
    "id": "F49rRE8oUHKW"
   },
   "outputs": [],
   "source": [
    "# our datasets\n",
    "tx_X = transforms.Compose([ transforms.Resize((572, 572)),\n",
    "                              transforms.ToTensor(),\n",
    "                              transforms.Normalize((0.5,), (0.5,))\n",
    "                              ])\n",
    "tx_Y = transforms.Compose([ transforms.Resize((572, 572)),\n",
    "                              transforms.ToTensor(),  ################ no need to normalize the maskk\n",
    "                             # transforms.Normalize((0.5,), (0.5,))\n",
    "                              ])\n",
    "train_data = HC18('', train = True, transformX = tx_X, transformY = tx_Y)\n",
    "validation_data = HC18('', train = False, transformX = tx_X, transformY = tx_Y )"
   ]
  },
  {
   "cell_type": "code",
   "execution_count": 46,
   "metadata": {
    "colab": {},
    "colab_type": "code",
    "id": "O4dVTfibUBpJ"
   },
   "outputs": [],
   "source": [
    "# our dataloaders\n",
    "train_loader = DataLoader(dataset = train_data, batch_size = 2, shuffle = True, num_workers = 2 )\n",
    "validation_loader = DataLoader(dataset = validation_data, batch_size = 2, shuffle = True, num_workers = 2)"
   ]
  },
  {
   "cell_type": "code",
   "execution_count": 47,
   "metadata": {
    "colab": {},
    "colab_type": "code",
    "id": "byO6dBp-UirU"
   },
   "outputs": [],
   "source": [
    "# this function will return numpy array from the transformed tensors which were\n",
    "# obtained from our train_loader. Just to plot them and see if they are intact :) ha ha\n",
    "def im_converterX(tensor):\n",
    "    image = tensor.cpu().clone().detach().numpy() # make copy of tensor and converting it to numpy as we will need original later\n",
    "    image = image.transpose(1,2,0) # swapping axes making (1, 28, 28) image to a (28, 28, 1)\n",
    " # print(image.shape)\n",
    "    image = image * np.array((0.5, 0.5, 0.5)) + np.array((0.5, 0.5, 0.5)) # unnormalizing the image # this also outputs (28, 28, 3) which seems important for plt.imshow\n",
    "    image = image.clip(0, 1) # to make sure final values are in range 0 to 1 as .ToTensor outputed\n",
    "    return image"
   ]
  },
  {
   "cell_type": "code",
   "execution_count": 48,
   "metadata": {
    "colab": {},
    "colab_type": "code",
    "id": "HOAYYoUsIcZm"
   },
   "outputs": [],
   "source": [
    "# this function will return numpy array from the transformed tensors which were\n",
    "# obtained from our train_loader. Just to plot them and see if they are intact :) ha ha\n",
    "def im_converterY(tensor):\n",
    "    image = tensor.cpu().clone().detach().numpy() # make copy of tensor and converting it to numpy as we will need original later\n",
    "    image = image.transpose(1,2,0) # swapping axes making (1, 28, 28) image to a (28, 28, 1)\n",
    " # print(image.shape)\n",
    "    image = image * np.array((1, 1, 1)) # unnormalizing the image  not needed# this also outputs (28, 28, 3) which seems important for plt.imshow\n",
    "    image = image.clip(0, 1) # to make sure final values are in range 0 to 1 as .ToTensor outputed\n",
    "    return image"
   ]
  },
  {
   "cell_type": "code",
   "execution_count": 49,
   "metadata": {
    "colab": {
     "base_uri": "https://localhost:8080/",
     "height": 395
    },
    "colab_type": "code",
    "id": "_AqSIQugXi5v",
    "outputId": "5b548474-943b-4a7a-eeb4-62ba89762663"
   },
   "outputs": [
    {
     "name": "stdout",
     "output_type": "stream",
     "text": [
      "0 torch.Size([2, 1, 572, 572]) torch.Size([2, 1, 572, 572])\n"
     ]
    },
    {
     "data": {
      "image/png": "[encoded data removed]",
      "text/plain": [
       "<Figure size 1080x432 with 4 Axes>"
      ]
     },
     "metadata": {
      "needs_background": "light"
     },
     "output_type": "display_data"
    }
   ],
   "source": [
    "## Here we loop through our train_loader and see the images\n",
    "## Looks good\n",
    "fig = plt.figure(figsize = (15,6))\n",
    "for ith_batch, sample_batched in enumerate(train_loader):\n",
    "    print(ith_batch, sample_batched['image'].size(), sample_batched['annotation'].size())\n",
    "    \n",
    "    for index in range(2):\n",
    "        ax = fig.add_subplot(2, 2 , index + 1)  # subplot index starts from 1\n",
    "        plt.imshow(im_converterX(sample_batched['image'][index]))\n",
    "        ax = fig.add_subplot(2, 2, index + 3)\n",
    "        plt.imshow(im_converterY(sample_batched['annotation'][index]))\n",
    "    break"
   ]
  },
  {
   "cell_type": "code",
   "execution_count": 50,
   "metadata": {
    "colab": {},
    "colab_type": "code",
    "id": "VmF1oc0yyp-O"
   },
   "outputs": [],
   "source": [
    "class double_conv(nn.Module):\n",
    "    '''(conv => BN => ReLU) * 2'''\n",
    "\n",
    "    def __init__(self, in_ch, out_ch):\n",
    "        super(double_conv, self).__init__()\n",
    "        self.conv = nn.Sequential(\n",
    "            nn.Conv2d(in_ch, out_ch, 3, padding=1),\n",
    "            nn.BatchNorm2d(out_ch),\n",
    "            #nn.Dropout2d(0.7),\n",
    "            nn.ReLU(inplace=True),\n",
    "            nn.Conv2d(out_ch, out_ch, 3, padding=1),\n",
    "            nn.BatchNorm2d(out_ch),\n",
    "            #nn.Dropout2d(0.77),\n",
    "            nn.ReLU(inplace=True)\n",
    "        )\n",
    "\n",
    "    def forward(self, x):\n",
    "        x = self.conv(x)\n",
    "        return x\n",
    "\n",
    "\n",
    "class inconv(nn.Module):\n",
    "    def __init__(self, in_ch, out_ch):\n",
    "        super(inconv, self).__init__()\n",
    "        self.conv = double_conv(in_ch, out_ch)\n",
    "\n",
    "    def forward(self, x):\n",
    "        x = self.conv(x)\n",
    "        return x\n",
    "\n",
    "\n",
    "class down(nn.Module):\n",
    "    def __init__(self, in_ch, out_ch):\n",
    "        super(down, self).__init__()\n",
    "        self.mpconv = nn.Sequential(\n",
    "            nn.MaxPool2d(2),\n",
    "            double_conv(in_ch, out_ch)\n",
    "        )\n",
    "\n",
    "    def forward(self, x):\n",
    "        x = self.mpconv(x)\n",
    "        return x\n",
    "\n",
    "\n",
    "class up(nn.Module):\n",
    "    def __init__(self, in_ch, out_ch, bilinear=True):\n",
    "        super(up, self).__init__()\n",
    "\n",
    "        if bilinear: #upsampling will not be learnable\n",
    "            self.up = nn.Upsample(\n",
    "                scale_factor=2, mode='bilinear', align_corners=True)\n",
    "        else:  # it will be learnable here\n",
    "            self.up = nn.ConvTranspose2d(in_ch // 2, in_ch // 2, 2, stride=2)\n",
    "        \n",
    "        self.conv = double_conv(in_ch, out_ch)\n",
    "\n",
    "    def forward(self, x1, x2):\n",
    "        x1 = self.up(x1)\n",
    "\n",
    "        # input is CHW\n",
    "        diffY = x2.size()[2] - x1.size()[2]\n",
    "        diffX = x2.size()[3] - x1.size()[3]\n",
    "\n",
    "        x1 = F.pad(x1, (diffX // 2, diffX - diffX // 2,\n",
    "                        diffY // 2, diffY - diffY // 2))\n",
    "\n",
    "        x = torch.cat([x2, x1], dim=1)\n",
    "        x = self.conv(x)\n",
    "        return x\n",
    "\n",
    "\n",
    "class outconv(nn.Module):\n",
    "    def __init__(self, in_ch, out_ch):\n",
    "        super(outconv, self).__init__()\n",
    "        self.conv = nn.Conv2d(in_ch, out_ch, 1)\n",
    "\n",
    "    def forward(self, x):\n",
    "        x = self.conv(x)\n",
    "        return x"
   ]
  },
  {
   "cell_type": "code",
   "execution_count": 51,
   "metadata": {
    "colab": {
     "base_uri": "https://localhost:8080/",
     "height": 34
    },
    "colab_type": "code",
    "id": "SEEG5r4DcCH3",
    "outputId": "63192628-b628-43dc-ad05-6106fe21fbe3"
   },
   "outputs": [
    {
     "name": "stdout",
     "output_type": "stream",
     "text": [
      "Model Loaded to GPU\n"
     ]
    }
   ],
   "source": [
    "class UNet(nn.Module):\n",
    "    def __init__(self, n_channels, n_classes):\n",
    "        super(UNet, self).__init__()\n",
    "        self.inc = inconv(n_channels, 64)\n",
    "        self.down1 = down(64, 128)\n",
    "        self.down2 = down(128, 256)\n",
    "        self.down3 = down(256, 512)\n",
    "        self.down4 = down(512, 512)\n",
    "        self.up1 = up(1024, 256, bilinear = False) # upsampling weights are made learnable\n",
    "        self.up2 = up(512, 128, bilinear = False)\n",
    "        self.up3 = up(256, 64, bilinear = False)\n",
    "        self.up4 = up(128, 64, bilinear = False)\n",
    "        self.outc = outconv(64, n_classes)\n",
    "        self.dropout = torch.nn.Dropout2d(0.5)\n",
    "\n",
    "    def forward(self, x):\n",
    "        x = x.float()\n",
    "        x1 = self.inc(x)\n",
    "        x2 = self.down1(x1)\n",
    "       # x2 = self.dropout(x2)\n",
    "        x3 = self.down2(x2)\n",
    "        x4 = self.down3(x3)\n",
    "        x5 = self.down4(x4)\n",
    "        print(x4.shape)\n",
    "        print(x5.shape)\n",
    "        x = self.up1(x5, x4)\n",
    "       \n",
    "        x = self.up2(x, x3)\n",
    "        x = self.dropout(x)\n",
    "        x = self.up3(x, x2)\n",
    "        #x = self.dropout(x) #\n",
    "        x = self.up4(x, x1)\n",
    "        x = self.outc(x)\n",
    "        return torch.sigmoid(x)\n",
    "      \n",
    "      \n",
    "      \n",
    "      \n",
    "      \n",
    "      \n",
    "model = UNet(1, 1)\n",
    "model.to('cuda')\n",
    "print(\"Model Loaded to GPU\")"
   ]
  },
  {
   "cell_type": "code",
   "execution_count": 52,
   "metadata": {
    "colab": {},
    "colab_type": "code",
    "id": "Kkar10aVwiqC"
   },
   "outputs": [],
   "source": [
    "criterion = nn.BCELoss()\n",
    "optimizer = torch.optim.Adam(model.parameters(), lr = 0.0077)"
   ]
  },
  {
   "cell_type": "code",
   "execution_count": 53,
   "metadata": {
    "colab": {},
    "colab_type": "code",
    "id": "mK-C6T9GTOYm"
   },
   "outputs": [],
   "source": [
    "# calculates similarity index between predicted and actual segmentation\n",
    "def dice_index(y_pred, y_actual):\n",
    "    smooth = 0.000001\n",
    "    size_of_batch = y_pred.size(0)\n",
    "    \n",
    "    p1 = y_pred.view(size_of_batch, -1)\n",
    "    p2 = y_actual.view(size_of_batch, -1)\n",
    "    \n",
    "    intersection = (p1 * p2).sum()\n",
    "    \n",
    "    dice =  ((2.0 * intersection )+ smooth) / (p1.sum() + p2.sum() + smooth)\n",
    "    #dice.requires_grad = True\n",
    "    \n",
    "    return dice"
   ]
  },
  {
   "cell_type": "code",
   "execution_count": 54,
   "metadata": {
    "colab": {},
    "colab_type": "code",
    "id": "RM3cC8H8TxJi"
   },
   "outputs": [],
   "source": [
    "# calculate dice loss which will be later used in loss function calculation\n",
    "def dice_loss(y_predict, y_train): ## to add in bce looss\n",
    "  \n",
    "  dice_loss = 1 -(dice_index(y_predict, y_train))\n",
    "  \n",
    "  return dice_loss\n",
    "  "
   ]
  },
  {
   "cell_type": "code",
   "execution_count": 55,
   "metadata": {
    "colab": {
     "base_uri": "https://localhost:8080/",
     "height": 1000
    },
    "colab_type": "code",
    "id": "5XAgy9133DFW",
    "outputId": "b0157fdb-5c94-4734-f62c-6fd35d7dc9f5"
   },
   "outputs": [
    {
     "name": "stdout",
     "output_type": "stream",
     "text": [
      "torch.Size([2, 512, 71, 71])\n",
      "torch.Size([2, 512, 35, 35])\n",
      "Epoch:  1 Batch:  0 Current Loss:  0.6656624674797058\n",
      "torch.Size([2, 512, 71, 71])\n",
      "torch.Size([2, 512, 35, 35])\n",
      "torch.Size([2, 512, 71, 71])\n",
      "torch.Size([2, 512, 35, 35])\n",
      "torch.Size([2, 512, 71, 71])\n",
      "torch.Size([2, 512, 35, 35])\n",
      "torch.Size([2, 512, 71, 71])\n",
      "torch.Size([2, 512, 35, 35])\n",
      "torch.Size([2, 512, 71, 71])\n",
      "torch.Size([2, 512, 35, 35])\n",
      "torch.Size([2, 512, 71, 71])\n",
      "torch.Size([2, 512, 35, 35])\n",
      "torch.Size([2, 512, 71, 71])\n",
      "torch.Size([2, 512, 35, 35])\n",
      "torch.Size([2, 512, 71, 71])\n",
      "torch.Size([2, 512, 35, 35])\n"
     ]
    },
    {
     "name": "stderr",
     "output_type": "stream",
     "text": [
      "Traceback (most recent call last):\n",
      "  File \"/opt/tljh/user/lib/python3.9/multiprocessing/queues.py\", line 251, in _feed\n",
      "    send_bytes(obj)\n",
      "  File \"/opt/tljh/user/lib/python3.9/multiprocessing/connection.py\", line 205, in send_bytes\n",
      "    self._send_bytes(m[offset:offset + size])\n",
      "  File \"/opt/tljh/user/lib/python3.9/multiprocessing/connection.py\", line 416, in _send_bytes\n",
      "    self._send(header + buf)\n",
      "  File \"/opt/tljh/user/lib/python3.9/multiprocessing/connection.py\", line 373, in _send\n",
      "    n = write(self._handle, buf)\n",
      "BrokenPipeError: [Errno 32] Broken pipe\n"
     ]
    },
    {
     "ename": "KeyboardInterrupt",
     "evalue": "",
     "output_type": "error",
     "traceback": [
      "\u001b[0;31m---------------------------------------------------------------------------\u001b[0m",
      "\u001b[0;31mKeyboardInterrupt\u001b[0m                         Traceback (most recent call last)",
      "\u001b[0;32m/tmp/ipykernel_12309/662044258.py\u001b[0m in \u001b[0;36m<module>\u001b[0;34m\u001b[0m\n\u001b[1;32m     32\u001b[0m       \u001b[0mprint\u001b[0m\u001b[0;34m(\u001b[0m\u001b[0;34m'Epoch: '\u001b[0m\u001b[0;34m,\u001b[0m \u001b[0me\u001b[0m \u001b[0;34m+\u001b[0m \u001b[0;36m1\u001b[0m\u001b[0;34m,\u001b[0m \u001b[0;34m'Batch: '\u001b[0m\u001b[0;34m,\u001b[0m \u001b[0mith_batch\u001b[0m\u001b[0;34m,\u001b[0m \u001b[0;34m'Current Loss: '\u001b[0m\u001b[0;34m,\u001b[0m \u001b[0mloss\u001b[0m\u001b[0;34m.\u001b[0m\u001b[0mitem\u001b[0m\u001b[0;34m(\u001b[0m\u001b[0;34m)\u001b[0m\u001b[0;34m)\u001b[0m\u001b[0;34m\u001b[0m\u001b[0;34m\u001b[0m\u001b[0m\n\u001b[1;32m     33\u001b[0m \u001b[0;34m\u001b[0m\u001b[0m\n\u001b[0;32m---> 34\u001b[0;31m     \u001b[0mtrain_running_loss\u001b[0m \u001b[0;34m+=\u001b[0m \u001b[0mloss\u001b[0m\u001b[0;34m.\u001b[0m\u001b[0mitem\u001b[0m\u001b[0;34m(\u001b[0m\u001b[0;34m)\u001b[0m\u001b[0;34m\u001b[0m\u001b[0;34m\u001b[0m\u001b[0m\n\u001b[0m\u001b[1;32m     35\u001b[0m \u001b[0;34m\u001b[0m\u001b[0m\n\u001b[1;32m     36\u001b[0m \u001b[0;34m\u001b[0m\u001b[0m\n",
      "\u001b[0;31mKeyboardInterrupt\u001b[0m: "
     ]
    }
   ],
   "source": [
    "epochs = 10\n",
    "\n",
    "\n",
    "train_running_loss_history = []\n",
    "validation_running_loss_history =[]\n",
    "\n",
    "for e in range(epochs):\n",
    "  train_running_loss = 0.0\n",
    "  validation_running_loss = 0.0\n",
    "  \n",
    "  model.train()\n",
    "  \n",
    "  for ith_batch, sample_batched in enumerate(train_loader):\n",
    "    X_train = sample_batched['image'].to('cuda')\n",
    "    y_train = sample_batched['annotation'].to('cuda')\n",
    "    \n",
    "    #X_train.requires_grad = True\n",
    "    #y_train.requires_grad = True\n",
    "\n",
    "    #print(ith_batch) #, X_train.size(), y_train.size())\n",
    "\n",
    "    optimizer.zero_grad()\n",
    "    y_pred = model(X_train)\n",
    "   # out = (y_pred + 0.5).int().float()\n",
    "    \n",
    "    loss = 0.30 * dice_loss(y_pred, y_train) +  0.70 * criterion(y_pred, y_train)\n",
    "    #loss = criterion(y_pred, y_train)\n",
    "    loss.backward()\n",
    "    optimizer.step()\n",
    "    \n",
    "    if ith_batch % 50 == 0:\n",
    "      print('Epoch: ', e + 1, 'Batch: ', ith_batch, 'Current Loss: ', loss.item())\n",
    "      \n",
    "    train_running_loss += loss.item()\n",
    "    \n",
    "    \n",
    "    \n",
    "    \n",
    "  else:\n",
    "    with torch.no_grad():\n",
    "      \n",
    "      model.eval()\n",
    "      \n",
    "      for ith_batch, sample_batched in enumerate(validation_loader):\n",
    "          X_val = sample_batched['image'].to('cuda')\n",
    "          y_val = sample_batched['annotation'].to('cuda')\n",
    "          \n",
    "          \n",
    "          \n",
    "          y_out = model(X_val)\n",
    "          out_val = (y_out + 0.5).int().float()\n",
    "          \n",
    "          val_loss = 0.3 * dice_loss(out_val, y_val)  + 0.7 * criterion(y_out, y_val)\n",
    "          \n",
    "          #val_loss = criterion(y_out, y_val)\n",
    "          \n",
    "          validation_running_loss += val_loss.item()\n",
    "      print(\"================================================================================\")\n",
    "      print(\"Epoch {} completed\".format(e + 1))\n",
    "      \n",
    "      train_epoch_loss = train_running_loss / len(train_loader)\n",
    "      validation_epoch_loss = validation_running_loss / len(validation_loader)\n",
    "      \n",
    "      print(\"Average train loss is {}: \".format(train_epoch_loss))\n",
    "      print(\"Average validation loss is {}\".format(validation_epoch_loss))\n",
    "      print(\"================================================================================\")\n",
    "      train_running_loss_history.append(train_epoch_loss)\n",
    "      validation_running_loss_history.append(validation_epoch_loss)\n",
    "  \n",
    "  torch.cuda.empty_cache()\n",
    "      #print(y_pred.shape)\n",
    "\n",
    "    #y_pred = y_pred.to('cpu')\n",
    "    #X_train = X_train.to('cpu')\n",
    "\n",
    "    #del y_train\n",
    "    #torch.cuda.empty_cache()\n",
    "    #if ith_batch ==100:\n",
    "    #break\n",
    "  #for index in range(2):\n",
    "  #         ax = gig.add_subplot(2, 2 , index + 1)  # subplot index starts from 1\n",
    "   #         plt.imshow(im_converter(X_train[index]))\n",
    "    #        ax = gig.add_subplot(2, 2, index + 3)\n",
    "     #       plt.imshow(im_converter(y_pred[index]))\n",
    "  \n",
    "    \n",
    "  \n",
    "   \n",
    "  \n",
    "\n",
    "  \n",
    "  \n",
    "  \n",
    "    "
   ]
  },
  {
   "cell_type": "code",
   "execution_count": null,
   "metadata": {
    "colab": {
     "base_uri": "https://localhost:8080/",
     "height": 286
    },
    "colab_type": "code",
    "id": "q_asZLDb3Mnm",
    "outputId": "d740fcc4-620c-43c6-9b00-488edd2df00a"
   },
   "outputs": [],
   "source": [
    "plt.plot(train_running_loss_history, label = 'Train Loss')\n",
    "plt.plot(validation_running_loss_history, label = 'Validation Loss')\n",
    "plt.legend()"
   ]
  },
  {
   "cell_type": "code",
   "execution_count": null,
   "metadata": {
    "colab": {
     "base_uri": "https://localhost:8080/",
     "height": 34
    },
    "colab_type": "code",
    "id": "oav3DSR5LeY8",
    "outputId": "a78a8ecf-769c-436e-c402-5d1d2466234d"
   },
   "outputs": [],
   "source": [
    "model.eval()\n",
    "X_train.size()"
   ]
  },
  {
   "cell_type": "code",
   "execution_count": 25,
   "metadata": {
    "colab": {},
    "colab_type": "code",
    "id": "8ObtRUCJ9pYt"
   },
   "outputs": [],
   "source": [
    "out = (y_pred + 0.5).int().float()"
   ]
  },
  {
   "cell_type": "code",
   "execution_count": 26,
   "metadata": {
    "colab": {
     "base_uri": "https://localhost:8080/",
     "height": 52
    },
    "colab_type": "code",
    "id": "nmzZ1KWl7Dk7",
    "outputId": "a1442426-843f-43f7-be41-0a1991d2c3ce"
   },
   "outputs": [
    {
     "name": "stdout",
     "output_type": "stream",
     "text": [
      "tensor(0.9681, device='cuda:0')\n",
      "tensor(0.0319, device='cuda:0')\n"
     ]
    }
   ],
   "source": [
    "print(dice_index(y_train, out))\n",
    "print(dice_loss(y_train, out))"
   ]
  },
  {
   "cell_type": "code",
   "execution_count": 27,
   "metadata": {
    "colab": {
     "base_uri": "https://localhost:8080/",
     "height": 598
    },
    "colab_type": "code",
    "id": "5IEn2rjIzo4v",
    "outputId": "17a8933e-e54c-46cf-d27e-1528444a0f2b"
   },
   "outputs": [
    {
     "ename": "IndexError",
     "evalue": "index 1 is out of bounds for dimension 0 with size 1",
     "output_type": "error",
     "traceback": [
      "\u001b[0;31m---------------------------------------------------------------------------\u001b[0m",
      "\u001b[0;31mIndexError\u001b[0m                                Traceback (most recent call last)",
      "\u001b[0;32m/tmp/ipykernel_6257/1166841764.py\u001b[0m in \u001b[0;36m<module>\u001b[0;34m\u001b[0m\n\u001b[1;32m     12\u001b[0m \u001b[0;34m\u001b[0m\u001b[0m\n\u001b[1;32m     13\u001b[0m \u001b[0ma\u001b[0m \u001b[0;34m=\u001b[0m \u001b[0mpig\u001b[0m\u001b[0;34m.\u001b[0m\u001b[0madd_subplot\u001b[0m\u001b[0;34m(\u001b[0m\u001b[0;36m2\u001b[0m\u001b[0;34m,\u001b[0m \u001b[0;36m3\u001b[0m\u001b[0;34m,\u001b[0m \u001b[0;36m4\u001b[0m\u001b[0;34m)\u001b[0m\u001b[0;34m\u001b[0m\u001b[0;34m\u001b[0m\u001b[0m\n\u001b[0;32m---> 14\u001b[0;31m \u001b[0mplt\u001b[0m\u001b[0;34m.\u001b[0m\u001b[0mimshow\u001b[0m\u001b[0;34m(\u001b[0m\u001b[0mim_converterX\u001b[0m\u001b[0;34m(\u001b[0m\u001b[0mX_train\u001b[0m\u001b[0;34m[\u001b[0m\u001b[0;36m1\u001b[0m\u001b[0;34m]\u001b[0m\u001b[0;34m)\u001b[0m\u001b[0;34m)\u001b[0m\u001b[0;34m\u001b[0m\u001b[0;34m\u001b[0m\u001b[0m\n\u001b[0m\u001b[1;32m     15\u001b[0m \u001b[0;34m\u001b[0m\u001b[0m\n\u001b[1;32m     16\u001b[0m \u001b[0ma\u001b[0m \u001b[0;34m=\u001b[0m \u001b[0mpig\u001b[0m\u001b[0;34m.\u001b[0m\u001b[0madd_subplot\u001b[0m\u001b[0;34m(\u001b[0m\u001b[0;36m2\u001b[0m\u001b[0;34m,\u001b[0m \u001b[0;36m3\u001b[0m\u001b[0;34m,\u001b[0m \u001b[0;36m5\u001b[0m\u001b[0;34m)\u001b[0m\u001b[0;34m\u001b[0m\u001b[0;34m\u001b[0m\u001b[0m\n",
      "\u001b[0;31mIndexError\u001b[0m: index 1 is out of bounds for dimension 0 with size 1"
     ]
    },
    {
     "data": {
      "image/png": "[encoded data removed]",
      "text/plain": [
       "<Figure size 1080x432 with 4 Axes>"
      ]
     },
     "metadata": {
      "needs_background": "light"
     },
     "output_type": "display_data"
    }
   ],
   "source": [
    "pig = plt.figure(figsize = (15, 6))\n",
    "\n",
    "a = pig.add_subplot(2, 3, 1)\n",
    "plt.imshow(im_converterX(X_train[0]))\n",
    "\n",
    "a = pig.add_subplot(2, 3, 2)\n",
    "plt.imshow(im_converterY(y_train[0]))\n",
    "\n",
    "a = pig.add_subplot(2, 3, 3)\n",
    "plt.imshow(im_converterY(out[0]))\n",
    "\n",
    "\n",
    "a = pig.add_subplot(2, 3, 4)\n",
    "plt.imshow(im_converterX(X_train[1]))\n",
    "\n",
    "a = pig.add_subplot(2, 3, 5)\n",
    "plt.imshow(im_converterY(y_train[1]))\n",
    "\n",
    "a = pig.add_subplot(2, 3, 6)\n",
    "plt.imshow(im_converterY(out[1]))"
   ]
  },
  {
   "cell_type": "code",
   "execution_count": 28,
   "metadata": {
    "colab": {
     "base_uri": "https://localhost:8080/",
     "height": 52
    },
    "colab_type": "code",
    "id": "obuo5GpotgF4",
    "outputId": "5098b1a1-a9fa-447e-c1e6-55cf96e450be"
   },
   "outputs": [
    {
     "name": "stdout",
     "output_type": "stream",
     "text": [
      "tensor(0.9681, device='cuda:0')\n",
      "tensor(0.0319, device='cuda:0')\n"
     ]
    }
   ],
   "source": [
    "gg = dice_index(out, y_train)\n",
    "print(gg)\n",
    "print(dice_loss(out, y_train))"
   ]
  },
  {
   "cell_type": "code",
   "execution_count": 53,
   "metadata": {
    "colab": {},
    "colab_type": "code",
    "id": "gjwzB8SIDmsg"
   },
   "outputs": [],
   "source": [
    "class HC18_test(Dataset):\n",
    "    def __init__(self, root_dir, transformX = None):\n",
    "        self.pixel_file = pd.read_csv(os.path.join(root_dir, 'test_set_pixel_size.csv'))\n",
    "        self.root_dir = root_dir\n",
    "        self.transformX = transformX\n",
    "        \n",
    "    def __len__(self):\n",
    "        return len(self.pixel_file)\n",
    "    \n",
    "    def __getitem__(self, index):\n",
    "        imx_name = os.path.join(self.root_dir, 'test_set', self.pixel_file.iloc[index, 0])\n",
    "        \n",
    "        imx = Image.open(imx_name)\n",
    "        \n",
    "        f_name = self.pixel_file.iloc[index, 0]\n",
    "        \n",
    "        if self.transformX :\n",
    "            imx = self.transformX(imx)\n",
    "        \n",
    "        sample = {'image': imx, 'f_name': f_name}\n",
    "        return sample"
   ]
  },
  {
   "cell_type": "code",
   "execution_count": 54,
   "metadata": {
    "colab": {},
    "colab_type": "code",
    "id": "ANbk8RUTEEWi"
   },
   "outputs": [],
   "source": [
    "test_data = HC18_test('', transformX = tx_X)"
   ]
  },
  {
   "cell_type": "code",
   "execution_count": 56,
   "metadata": {},
   "outputs": [
    {
     "data": {
      "text/plain": [
       "<__main__.HC18_test at 0x7f7f38a5d070>"
      ]
     },
     "execution_count": 56,
     "metadata": {},
     "output_type": "execute_result"
    }
   ],
   "source": [
    "test_data"
   ]
  },
  {
   "cell_type": "code",
   "execution_count": 57,
   "metadata": {
    "colab": {},
    "colab_type": "code",
    "id": "m7vHHClpF1H-"
   },
   "outputs": [],
   "source": [
    "test_loader = DataLoader(dataset = test_data, batch_size = 2, shuffle = True)"
   ]
  },
  {
   "cell_type": "code",
   "execution_count": 58,
   "metadata": {},
   "outputs": [
    {
     "data": {
      "text/plain": [
       "<torch.utils.data.dataloader.DataLoader at 0x7f7f38a5d2b0>"
      ]
     },
     "execution_count": 58,
     "metadata": {},
     "output_type": "execute_result"
    }
   ],
   "source": [
    "test_loader"
   ]
  },
  {
   "cell_type": "code",
   "execution_count": 59,
   "metadata": {
    "colab": {
     "base_uri": "https://localhost:8080/",
     "height": 395
    },
    "colab_type": "code",
    "id": "isvc3sTnFS_i",
    "outputId": "143c16b3-d8e5-46a8-8ac3-e6e3797fff2d"
   },
   "outputs": [
    {
     "name": "stdout",
     "output_type": "stream",
     "text": [
      "0 torch.Size([2, 1, 572, 572])\n"
     ]
    },
    {
     "data": {
      "image/png": "[encoded data removed]",
      "text/plain": [
       "<Figure size 1080x432 with 4 Axes>"
      ]
     },
     "metadata": {
      "needs_background": "light"
     },
     "output_type": "display_data"
    }
   ],
   "source": [
    "## Here we loop through our train_loader and see the images\n",
    "## Looks good\n",
    "fig = plt.figure(figsize = (15,6))\n",
    "#model.to('cpu')\n",
    "for ith_batch, sample_batched in enumerate(test_loader):\n",
    "  \n",
    "    X_test = sample_batched['image'].to('cuda')\n",
    "    print(ith_batch, X_test.size())\n",
    "    \n",
    "    y_test = (model(X_test) + 0.5).int().float()\n",
    "    \n",
    "    \n",
    "    \n",
    "    for index in range(2):\n",
    "        ax = fig.add_subplot(2, 2 , index + 1)  # subplot index starts from 1\n",
    "        plt.imshow(im_converterX(X_test[index]))\n",
    "        \n",
    "        ax  = fig.add_subplot(2, 2, index + 3)\n",
    "        plt.imshow(im_converterY(y_test[index]))\n",
    "    break"
   ]
  },
  {
   "cell_type": "code",
   "execution_count": null,
   "metadata": {},
   "outputs": [],
   "source": []
  },
  {
   "cell_type": "code",
   "execution_count": 60,
   "metadata": {
    "colab": {},
    "colab_type": "code",
    "id": "9MwrdTLVg_R5"
   },
   "outputs": [],
   "source": [
    "def avg_dice_index(dataloader):\n",
    "  \n",
    "    dice = 0.0\n",
    "    model.eval()\n",
    "    with torch.no_grad():\n",
    "    \n",
    "        for ith_batch, sample_batched in enumerate(dataloader):\n",
    "  \n",
    "            X_train = sample_batched['image'].to('cuda')\n",
    "            y_train = sample_batched['annotation'].to('cuda')\n",
    "            \n",
    "            y_predict = (model(X_train) + 0.5).int().float()\n",
    "            \n",
    "            dice += dice_index(y_predict, y_train)\n",
    "            \n",
    "            \n",
    "            \n",
    "    avg_dice = dice / len(dataloader)\n",
    "    return avg_dice.item()"
   ]
  },
  {
   "cell_type": "code",
   "execution_count": 62,
   "metadata": {
    "colab": {
     "base_uri": "https://localhost:8080/",
     "height": 34
    },
    "colab_type": "code",
    "id": "kVcdOezElB9i",
    "outputId": "2387450d-c6af-4bd6-f08b-19b821fcd231"
   },
   "outputs": [
    {
     "data": {
      "text/plain": [
       "0.8537807464599609"
      ]
     },
     "execution_count": 62,
     "metadata": {},
     "output_type": "execute_result"
    }
   ],
   "source": [
    "avg_dice_index(validation_loader)    #### Dice index of validation data"
   ]
  },
  {
   "cell_type": "code",
   "execution_count": 63,
   "metadata": {
    "colab": {
     "base_uri": "https://localhost:8080/",
     "height": 34
    },
    "colab_type": "code",
    "id": "WWdcqkUGJIff",
    "outputId": "68a6ccca-9d5e-414e-e8aa-b33f037bba24"
   },
   "outputs": [
    {
     "data": {
      "text/plain": [
       "0.8284154534339905"
      ]
     },
     "execution_count": 63,
     "metadata": {},
     "output_type": "execute_result"
    }
   ],
   "source": [
    "avg_dice_index(train_loader)        ### Dice index of training data"
   ]
  },
  {
   "cell_type": "code",
   "execution_count": 64,
   "metadata": {
    "colab": {},
    "colab_type": "code",
    "id": "OFwZ4hGJKX4x"
   },
   "outputs": [],
   "source": [
    "test_loader = DataLoader(dataset = test_data, batch_size = 1, shuffle = True) # to write image files"
   ]
  },
  {
   "cell_type": "markdown",
   "metadata": {
    "colab_type": "text",
    "id": "nzrqfqoZAhG7"
   },
   "source": [
    "## **Warning!!!**\n",
    "### Your are about to write on drive"
   ]
  },
  {
   "cell_type": "code",
   "execution_count": 68,
   "metadata": {
    "colab": {},
    "colab_type": "code",
    "id": "F1xz1kGBlXIa"
   },
   "outputs": [
    {
     "name": "stdout",
     "output_type": "stream",
     "text": [
      "Segmentation files written\n"
     ]
    }
   ],
   "source": [
    "transform = transforms.Compose([\n",
    "        transforms.ToPILImage(),\n",
    "        transforms.Resize((540, 800)),\n",
    "        transforms.ToTensor()\n",
    "        ])\n",
    "    \n",
    "with torch.no_grad():\n",
    "      #model.eval()\n",
    "      for ith_batch , sample in enumerate(test_loader):\n",
    "        X_test = sample['image'].to('cuda')\n",
    "        y_pred = (model(X_test) + 0.5).int().float().cpu()\n",
    "#         print(335-ith_batch)\n",
    "        \n",
    "        file_names = sample['f_name']\n",
    "        pankaj = transform(y_pred[0])\n",
    "        #singh = transform(y_pred[1])\n",
    "        torchvision.utils.save_image(pankaj , os.path.join('segmented', file_names[0]))\n",
    "        #torchvision.utils.save_image(singh, os.path.join('/content/drive/My Drive/HC18/test_set', file_names[1].replace('.png','_Annotation.png')))\n",
    "      print(\"Segmentation files written\")\n",
    "        \n",
    "        "
   ]
  },
  {
   "cell_type": "code",
   "execution_count": 84,
   "metadata": {
    "colab": {},
    "colab_type": "code",
    "id": "usmYEz6soI3H"
   },
   "outputs": [],
   "source": [
    "def fit_ellipse(im):    \n",
    "    imgray = cv2.cvtColor(im,cv2.COLOR_BGR2GRAY)\n",
    "    ret,thresh = cv2.threshold(imgray,127,255,0)\n",
    "    contours, hierarchy = cv2.findContours(thresh,cv2.RETR_TREE,cv2.CHAIN_APPROX_SIMPLE)\n",
    "    contour_sizes = [len(contour) for contour in contours]\n",
    "    ellipse = cv2.fitEllipse(contours[np.argmax(contour_sizes)])\n",
    "    return ellipse"
   ]
  },
  {
   "cell_type": "code",
   "execution_count": 85,
   "metadata": {},
   "outputs": [],
   "source": [
    "file_names = sorted([file for _,_,files in os.walk('segmented/') for file in files])"
   ]
  },
  {
   "cell_type": "code",
   "execution_count": null,
   "metadata": {},
   "outputs": [],
   "source": []
  },
  {
   "cell_type": "code",
   "execution_count": 86,
   "metadata": {
    "colab": {},
    "colab_type": "code",
    "id": "NFxyNwWR1sE9"
   },
   "outputs": [
    {
     "name": "stdout",
     "output_type": "stream",
     "text": [
      "Required .csv file generated\n"
     ]
    }
   ],
   "source": [
    "df_pixel_size = pd.read_csv('test_set_pixel_size.csv')\n",
    "submission = {'filename': [], 'center_x_mm': [], 'center_y_mm': [], 'semi_axes_a_mm': [],\n",
    "             'semi_axes_b_mm': [], 'angle_rad': [], 'Index': []}\n",
    "\n",
    "file_names = sorted([file for _,_,files in os.walk('segmented/') for file in files])\n",
    "\n",
    "for i, file_name in enumerate(file_names):\n",
    "    im = cv2.imread('segmented/'+file_name)\n",
    "   # file_name = file_name.replace('_Segmented', '')\n",
    "    ellipse = fit_ellipse(im)\n",
    "    im_mask = cv2.ellipse(np.zeros_like(im),ellipse,(255,255,255),-1)\n",
    "    image_name = file_name.split('.')[0] + '_Annotation_fit.png'\n",
    "    #cv2.imwrite('/content/drive/My Drive/HC18/test_set/'+image_name, im_mask)\n",
    "    \n",
    "    pixel_size = df_pixel_size.loc[df_pixel_size['filename'] == file_name, 'pixel size(mm)'].iloc[0]\n",
    "    submission['filename'].extend([file_name])\n",
    "    submission['Index'].extend([int(file_name.split('_')[0])])\n",
    "    center_x,  center_y = ellipse[0]\n",
    "    submission['center_x_mm'].extend([pixel_size*center_x])\n",
    "    submission['center_y_mm'].extend([pixel_size*center_y])\n",
    "    semi_axes_b, semi_axes_a = ellipse[1]\n",
    "    if semi_axes_b > semi_axes_a:\n",
    "        semi_axes_b = semi_axes_b + semi_axes_a\n",
    "        semi_axes_a = semi_axes_b - semi_axes_a\n",
    "        semi_axes_b -= semi_axes_a\n",
    "    submission['semi_axes_a_mm'].extend([semi_axes_a*pixel_size/2])\n",
    "    submission['semi_axes_b_mm'].extend([semi_axes_b*pixel_size/2])\n",
    "    angle = ellipse[2]\n",
    "    if angle < 90:\n",
    "        angle += 90\n",
    "    else:\n",
    "        angle -= 90\n",
    "    submission['angle_rad'].extend([np.deg2rad(angle)])\n",
    "    \n",
    "submission = pd.DataFrame(submission)\n",
    "submission = submission[['filename', 'center_x_mm', 'center_y_mm', \n",
    "                         'semi_axes_a_mm', 'semi_axes_b_mm', 'angle_rad', 'Index']]    \n",
    "submission = submission.sort_values(['Index'])\n",
    "submission = submission.drop('Index', axis=1)\n",
    "submission.to_csv(\"seventh_submit_data_aug.csv\", index=False)\n",
    "print('Required .csv file generated')"
   ]
  },
  {
   "cell_type": "code",
   "execution_count": null,
   "metadata": {},
   "outputs": [],
   "source": []
  },
  {
   "cell_type": "code",
   "execution_count": 87,
   "metadata": {
    "colab": {},
    "colab_type": "code",
    "id": "24_UncsQ9SO8"
   },
   "outputs": [],
   "source": [
    "q = pd.read_csv('seventh_submit_data_aug.csv')  ## to check theck the generated csv"
   ]
  },
  {
   "cell_type": "code",
   "execution_count": 88,
   "metadata": {
    "colab": {},
    "colab_type": "code",
    "id": "yDETDtOb9bVx"
   },
   "outputs": [
    {
     "name": "stdout",
     "output_type": "stream",
     "text": [
      "Length of csv file:  335\n"
     ]
    }
   ],
   "source": [
    "print('Length of csv file: ',len(q))"
   ]
  },
  {
   "cell_type": "code",
   "execution_count": 89,
   "metadata": {
    "colab": {},
    "colab_type": "code",
    "id": "Si2wPk1P9hPO"
   },
   "outputs": [
    {
     "data": {
      "text/html": [
       "<div>\n",
       "<style scoped>\n",
       "    .dataframe tbody tr th:only-of-type {\n",
       "        vertical-align: middle;\n",
       "    }\n",
       "\n",
       "    .dataframe tbody tr th {\n",
       "        vertical-align: top;\n",
       "    }\n",
       "\n",
       "    .dataframe thead th {\n",
       "        text-align: right;\n",
       "    }\n",
       "</style>\n",
       "<table border=\"1\" class=\"dataframe\">\n",
       "  <thead>\n",
       "    <tr style=\"text-align: right;\">\n",
       "      <th></th>\n",
       "      <th>filename</th>\n",
       "      <th>center_x_mm</th>\n",
       "      <th>center_y_mm</th>\n",
       "      <th>semi_axes_a_mm</th>\n",
       "      <th>semi_axes_b_mm</th>\n",
       "      <th>angle_rad</th>\n",
       "    </tr>\n",
       "  </thead>\n",
       "  <tbody>\n",
       "    <tr>\n",
       "      <th>0</th>\n",
       "      <td>000_HC.png</td>\n",
       "      <td>84.797732</td>\n",
       "      <td>67.174911</td>\n",
       "      <td>44.772985</td>\n",
       "      <td>39.506920</td>\n",
       "      <td>1.351196</td>\n",
       "    </tr>\n",
       "    <tr>\n",
       "      <th>1</th>\n",
       "      <td>001_HC.png</td>\n",
       "      <td>30.343812</td>\n",
       "      <td>16.863880</td>\n",
       "      <td>8.193547</td>\n",
       "      <td>6.092025</td>\n",
       "      <td>3.094040</td>\n",
       "    </tr>\n",
       "    <tr>\n",
       "      <th>2</th>\n",
       "      <td>002_HC.png</td>\n",
       "      <td>60.998362</td>\n",
       "      <td>42.277418</td>\n",
       "      <td>37.160426</td>\n",
       "      <td>29.338302</td>\n",
       "      <td>0.081185</td>\n",
       "    </tr>\n",
       "    <tr>\n",
       "      <th>3</th>\n",
       "      <td>003_HC.png</td>\n",
       "      <td>32.598030</td>\n",
       "      <td>29.432673</td>\n",
       "      <td>26.903696</td>\n",
       "      <td>22.130366</td>\n",
       "      <td>0.081751</td>\n",
       "    </tr>\n",
       "    <tr>\n",
       "      <th>4</th>\n",
       "      <td>004_HC.png</td>\n",
       "      <td>78.124600</td>\n",
       "      <td>56.639275</td>\n",
       "      <td>52.663110</td>\n",
       "      <td>44.356875</td>\n",
       "      <td>2.996084</td>\n",
       "    </tr>\n",
       "  </tbody>\n",
       "</table>\n",
       "</div>"
      ],
      "text/plain": [
       "     filename  center_x_mm  center_y_mm  semi_axes_a_mm  semi_axes_b_mm  \\\n",
       "0  000_HC.png    84.797732    67.174911       44.772985       39.506920   \n",
       "1  001_HC.png    30.343812    16.863880        8.193547        6.092025   \n",
       "2  002_HC.png    60.998362    42.277418       37.160426       29.338302   \n",
       "3  003_HC.png    32.598030    29.432673       26.903696       22.130366   \n",
       "4  004_HC.png    78.124600    56.639275       52.663110       44.356875   \n",
       "\n",
       "   angle_rad  \n",
       "0   1.351196  \n",
       "1   3.094040  \n",
       "2   0.081185  \n",
       "3   0.081751  \n",
       "4   2.996084  "
      ]
     },
     "execution_count": 89,
     "metadata": {},
     "output_type": "execute_result"
    }
   ],
   "source": [
    "submission.head()"
   ]
  },
  {
   "cell_type": "code",
   "execution_count": null,
   "metadata": {},
   "outputs": [],
   "source": []
  }
 ],
 "metadata": {
  "accelerator": "GPU",
  "colab": {
   "collapsed_sections": [],
   "include_colab_link": true,
   "name": "HC18.ipynb",
   "provenance": [],
   "version": "0.3.2"
  },
  "kernelspec": {
   "display_name": "Python 3 (ipykernel)",
   "language": "python",
   "name": "python3"
  },
  "language_info": {
   "codemirror_mode": {
    "name": "ipython",
    "version": 3
   },
   "file_extension": ".py",
   "mimetype": "text/x-python",
   "name": "python",
   "nbconvert_exporter": "python",
   "pygments_lexer": "ipython3",
   "version": "3.9.7"
  }
 },
 "nbformat": 4,
 "nbformat_minor": 1
}
