{
  "nbformat": 4,
  "nbformat_minor": 0,
  "metadata": {
    "colab": {
      "name": "DataLoader.ipynb",
      "provenance": [],
      "collapsed_sections": []
    },
    "kernelspec": {
      "name": "python3",
      "display_name": "Python 3"
    },
    "language_info": {
      "name": "python"
    }
  },
  "cells": [
    {
      "cell_type": "code",
      "metadata": {
        "id": "h2CrMe4vv7-m",
        "colab": {
          "base_uri": "https://localhost:8080/"
        },
        "outputId": "f2dfe0ac-2d5d-4254-e91d-2e927e47f015"
      },
      "source": [
        "from google.colab import drive\n",
        "drive.mount('/content/gdrive')"
      ],
      "execution_count": null,
      "outputs": [
        {
          "output_type": "stream",
          "name": "stdout",
          "text": [
            "Mounted at /content/gdrive\n"
          ]
        }
      ]
    },
    {
      "cell_type": "code",
      "metadata": {
        "id": "lpI3YHf1wO-5"
      },
      "source": [
        "import os\n",
        "from PIL import Image\n",
        "from torch.utils.data import Dataset\n",
        "import numpy as np\n",
        "\n",
        "\n",
        "class UltrasoundDataset(Dataset):\n",
        "  def __init__ (self,image_dir,mask_dir,transform=None):\n",
        "    self.image_dir = image_dir\n",
        "    self.mask_dir = mask_dir\n",
        "    self.images = os.listdir(image_dir)\n",
        "    self.transform = transform\n",
        "    \n",
        "  def __len__ (self):\n",
        "    return len(self.images)\n",
        "\n",
        "  def __getitem__ (self,index):\n",
        "    img_path = os.path.join(self.image_dir,self.images[index])\n",
        "    mask_path = os.path.join(self.mask_dir,self.images[index].replace(\".png\",\"_Annotation.png\"))\n",
        "    image = np.array(Image.open(img_path))\n",
        "    mask = np.array(Image.open(img_path).convert(\"L\"),dtype = np.float32)\n",
        "\n",
        "    return image,mask"
      ],
      "execution_count": null,
      "outputs": []
    },
    {
      "cell_type": "code",
      "metadata": {
        "id": "6nMohAYfvCoz"
      },
      "source": [
        "train = UltrasoundDataset(\"/content/gdrive/My Drive/CSCI3343_Final/training_set/train_images\",\"/content/gdrive/My Drive/CSCI3343_Final/training_set/train_masks\")"
      ],
      "execution_count": null,
      "outputs": []
    },
    {
      "cell_type": "code",
      "metadata": {
        "id": "Vqwc3j6RpN7i",
        "colab": {
          "base_uri": "https://localhost:8080/"
        },
        "outputId": "6dcf5bc6-1b24-4cf5-e73a-cbb5b7575baf"
      },
      "source": [
        "\n"
      ],
      "execution_count": null,
      "outputs": [
        {
          "output_type": "execute_result",
          "data": {
            "text/plain": [
              "(array([[0, 0, 0, ..., 0, 0, 0],\n",
              "        [0, 0, 0, ..., 0, 0, 0],\n",
              "        [0, 0, 0, ..., 0, 0, 0],\n",
              "        ...,\n",
              "        [0, 0, 0, ..., 0, 0, 0],\n",
              "        [0, 0, 0, ..., 0, 0, 0],\n",
              "        [0, 0, 0, ..., 0, 0, 0]], dtype=uint8),\n",
              " array([[0., 0., 0., ..., 0., 0., 0.],\n",
              "        [0., 0., 0., ..., 0., 0., 0.],\n",
              "        [0., 0., 0., ..., 0., 0., 0.],\n",
              "        ...,\n",
              "        [0., 0., 0., ..., 0., 0., 0.],\n",
              "        [0., 0., 0., ..., 0., 0., 0.],\n",
              "        [0., 0., 0., ..., 0., 0., 0.]], dtype=float32))"
            ]
          },
          "metadata": {},
          "execution_count": 7
        }
      ]
    },
    {
      "cell_type": "code",
      "metadata": {
        "id": "kzkQ8gCDvjsa"
      },
      "source": [
        ""
      ],
      "execution_count": null,
      "outputs": []
    },
    {
      "cell_type": "code",
      "metadata": {
        "id": "KNA10Bi4vRw8"
      },
      "source": [
        ""
      ],
      "execution_count": null,
      "outputs": []
    },
    {
      "cell_type": "code",
      "metadata": {
        "id": "HbrZDQ2Uvmp8"
      },
      "source": [
        ""
      ],
      "execution_count": null,
      "outputs": []
    },
    {
      "cell_type": "code",
      "metadata": {
        "id": "wFTGegACvpOo"
      },
      "source": [
        ""
      ],
      "execution_count": null,
      "outputs": []
    }
  ]
}